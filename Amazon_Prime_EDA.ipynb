{
  "nbformat": 4,
  "nbformat_minor": 0,
  "metadata": {
    "colab": {
      "private_outputs": true,
      "provenance": [],
      "collapsed_sections": [
        "vncDsAP0Gaoa",
        "FJNUwmbgGyua",
        "w6K7xa23Elo4",
        "yQaldy8SH6Dl",
        "PH-0ReGfmX4f",
        "mDgbUHAGgjLW",
        "O_i_v8NEhb9l",
        "HhfV-JJviCcP",
        "Y3lxredqlCYt",
        "3RnN4peoiCZX",
        "x71ZqKXriCWQ",
        "7hBIi_osiCS2",
        "JlHwYmJAmNHm",
        "35m5QtbWiB9F",
        "PoPl-ycgm1ru",
        "H0kj-8xxnORC",
        "nA9Y7ga8ng1Z",
        "PBTbrJXOngz2",
        "u3PMJOP6ngxN",
        "dauF4eBmngu3",
        "bKJF3rekwFvQ",
        "MSa1f5Uengrz",
        "GF8Ens_Soomf",
        "0wOQAZs5pc--",
        "K5QZ13OEpz2H",
        "lQ7QKXXCp7Bj",
        "448CDAPjqfQr",
        "KSlN3yHqYklG",
        "t6dVpIINYklI",
        "ijmpgYnKYklI",
        "-JiQyfWJYklI",
        "EM7whBJCYoAo",
        "fge-S5ZAYoAp",
        "85gYPyotYoAp",
        "RoGjAbkUYoAp",
        "4Of9eVA-YrdM",
        "iky9q4vBYrdO",
        "F6T5p64dYrdO",
        "y-Ehk30pYrdP",
        "bamQiAODYuh1",
        "QHF8YVU7Yuh3",
        "GwzvFGzlYuh3",
        "qYpmQ266Yuh3",
        "OH-pJp9IphqM",
        "bbFf2-_FphqN",
        "_ouA3fa0phqN",
        "Seke61FWphqN",
        "PIIx-8_IphqN",
        "t27r6nlMphqO",
        "r2jJGEOYphqO",
        "b0JNsNcRphqO",
        "BZR9WyysphqO",
        "jj7wYXLtphqO",
        "eZrbJ2SmphqO",
        "rFu4xreNphqO",
        "YJ55k-q6phqO",
        "gCFgpxoyphqP",
        "OVtJsKN_phqQ",
        "lssrdh5qphqQ",
        "U2RJ9gkRphqQ",
        "1M8mcRywphqQ",
        "tgIPom80phqQ",
        "JMzcOPDDphqR",
        "x-EpHcCOp1ci",
        "X_VqEhTip1ck",
        "8zGJKyg5p1ck",
        "PVzmfK_Ep1ck",
        "n3dbpmDWp1ck",
        "ylSl6qgtp1ck",
        "ZWILFDl5p1ck",
        "M7G43BXep1ck",
        "Ag9LCva-p1cl",
        "E6MkPsBcp1cl",
        "2cELzS2fp1cl",
        "3MPXvC8up1cl",
        "NC_X3p0fY2L0",
        "UV0SzAkaZNRQ",
        "YPEH6qLeZNRQ",
        "q29F0dvdveiT",
        "EXh0U9oCveiU",
        "22aHeOlLveiV",
        "JcMwzZxoAimU",
        "8G2x9gOozGDZ",
        "gCX9965dhzqZ",
        "gIfDvo9L0UH2"
      ],
      "include_colab_link": true
    },
    "kernelspec": {
      "name": "python3",
      "display_name": "Python 3"
    },
    "language_info": {
      "name": "python"
    }
  },
  "cells": [
    {
      "cell_type": "markdown",
      "metadata": {
        "id": "view-in-github",
        "colab_type": "text"
      },
      "source": [
        "<a href=\"https://colab.research.google.com/github/bot9066/APA/blob/main/Amazon_Prime_EDA.ipynb\" target=\"_parent\"><img src=\"https://colab.research.google.com/assets/colab-badge.svg\" alt=\"Open In Colab\"/></a>"
      ]
    },
    {
      "cell_type": "code",
      "source": [],
      "metadata": {
        "id": "I1apcow5dxii"
      },
      "execution_count": null,
      "outputs": []
    },
    {
      "cell_type": "markdown",
      "source": [
        "# **Project Name**    -Amazone Prime data analysis\n",
        "\n"
      ],
      "metadata": {
        "id": "vncDsAP0Gaoa"
      }
    },
    {
      "cell_type": "markdown",
      "source": [
        "##### **Project Type**    - EDA\n",
        "##### **Contribution**    - Individual\n"
      ],
      "metadata": {
        "id": "beRrZCGUAJYm"
      }
    },
    {
      "cell_type": "markdown",
      "source": [
        "# **Project Summary -**"
      ],
      "metadata": {
        "id": "FJNUwmbgGyua"
      }
    },
    {
      "cell_type": "markdown",
      "source": [
        "This project focuses on performing an in-depth Exploratory Data Analysis (EDA) on the vast catalog of TV shows and movies available on Amazon Prime Video in the United States.\n",
        "Leveraging two structured datasets—\n",
        "titles.csv, which includes metadata such as title type (TV show or movie), release year, runtime, genres, and IMDb ratings, and\n",
        "credits.csv, which details cast and crew information—the goal of this analysis is to uncover meaningful patterns, trends, and insights that highlight how content is distributed and consumed on the platform.\n",
        "The analysis began with thorough data cleaning, including removing duplicates, handling missing values, and properly parsing list-like fields such as genres and production countries. From there, we explored the overall distribution of content types and discovered that movies significantly outnumber TV shows on the platform. Genre analysis revealed Drama, Comedy, and Action as the most frequently occurring genres across both formats, suggesting viewer preference and platform focus. We also analyzed release trends over time and observed a steady rise in content production and acquisition, particularly after 2010, reflecting Amazon’s growing investment in original programming and global licensing. When examining IMDb ratings, we found that most content scores fall within the 5 to 8 range, with relatively few extremely high- or low-rated entries. Runtime analysis showed that movies typically cluster around 90 to 120 minutes, while TV shows vary more significantly, often depending on the number of seasons. The cast and crew dataset was used to identify the most frequently appearing actors and directors, giving insight into recurring talent and perhaps content that resonates more with audiences. By combining all these findings, this project offers a data-driven understanding of the type of content Amazon Prime prioritizes, how it has evolved over time, and which attributes might influence popularity or viewer engagement. These insights can be valuable not only for viewers or data enthusiasts, but also for content strategists and business teams at Amazon seeking to align their offerings with audience demand and market trends. Ultimately, this analysis demonstrates the power of exploratory data work in drawing actionable insights from a streaming service's content library."
      ],
      "metadata": {
        "id": "F6v_1wHtG2nS"
      }
    },
    {
      "cell_type": "markdown",
      "source": [
        "# **GitHub Link -**"
      ],
      "metadata": {
        "id": "w6K7xa23Elo4"
      }
    },
    {
      "cell_type": "markdown",
      "source": [
        "https://github.com/bot9066/APA/tree/main"
      ],
      "metadata": {
        "id": "h1o69JH3Eqqn"
      }
    },
    {
      "cell_type": "markdown",
      "source": [
        "# **1 Problem Statement**\n"
      ],
      "metadata": {
        "id": "yQaldy8SH6Dl"
      }
    },
    {
      "cell_type": "markdown",
      "source": [
        "Amazon Prime Video offers thousands of movies and TV shows across various genres, countries, and formats, but there's limited visibility into how this content is distributed and consumed.\n",
        "\n",
        "Without structured analysis, it’s challenging to understand what types of content dominate the platform (e.g., genres, ratings, content types).\n",
        "\n",
        "There’s a need to explore how the platform’s content offering has evolved over time — in terms of volume, diversity, and quality (as rated by viewers).\n",
        "\n",
        "Stakeholders like content strategists, data analysts, and marketers need insights to guide future content acquisition and production decisions.\n",
        "\n",
        "Key questions remain unanswered, such as:\n",
        "\n",
        "What is the balance between TV shows and movies?\n",
        "\n",
        "Which genres are most common and potentially overrepresented?\n",
        "\n",
        "Are there patterns in IMDb ratings or runtime that influence content performance?\n",
        "\n",
        "Which actors or directors are most frequently featured?\n",
        "\n",
        "How has content release frequency changed over the years?\n",
        "\n",
        "By answering these questions through data analysis, Amazon can better align its offerings with viewer preferences and market trends.\n",
        "\n"
      ],
      "metadata": {
        "id": "DpeJGUA3kjGy"
      }
    },
    {
      "cell_type": "markdown",
      "source": [
        "# **2 Define Your Business Objective?**"
      ],
      "metadata": {
        "id": "PH-0ReGfmX4f"
      }
    },
    {
      "cell_type": "markdown",
      "source": [
        "To gain a comprehensive understanding of the type, quality, and volume of content available on Amazon Prime Video in order to support data-driven content strategy decisions.\n",
        "\n",
        "To identify the most prevalent and popular genres, content types (TV shows vs. movies), and production trends that define Prime Video’s catalog.\n",
        "\n",
        "To uncover audience preferences based on patterns in IMDb ratings, runtime distributions, and genre frequency.\n",
        "\n",
        "To analyze temporal trends in content releases and assess how Amazon’s content offering has evolved over time.\n",
        "\n",
        "To evaluate which actors and directors appear most frequently, offering insights into talent that may resonate more with Prime subscribers.\n",
        "\n",
        "To use visual storytelling and descriptive statistics to present insights that help decision-makers optimize future content acquisitions, investments, and recommendation systems.\n",
        "\n",
        "Ultimately, to transform raw content data into actionable insights that align Prime Video’s offerings with viewer demand, improve platform engagement, and support long-term strategic growth."
      ],
      "metadata": {
        "id": "PhDvGCAqmjP1"
      }
    },
    {
      "cell_type": "markdown",
      "source": [
        "# **3 Working on Data set** : -  "
      ],
      "metadata": {
        "id": "mDgbUHAGgjLW"
      }
    },
    {
      "cell_type": "markdown",
      "source": [
        "### Import Libraries"
      ],
      "metadata": {
        "id": "ZrxVaUj-hHfC"
      }
    },
    {
      "cell_type": "code",
      "source": [
        "# Import Required Libraries\n",
        "import pandas as pd\n",
        "import numpy as np\n",
        "import matplotlib.pyplot as plt\n",
        "import seaborn as sns\n",
        "import missingno as msno\n",
        "import warnings\n",
        "warnings.filterwarnings('ignore')\n",
        "\n",
        "# Set seaborn styling\n",
        "sns.set(style='whitegrid')\n",
        "print(\"✅ Libraries imported successfully.\")\n"
      ],
      "metadata": {
        "id": "P08oV0RCX5Zq"
      },
      "execution_count": null,
      "outputs": []
    },
    {
      "cell_type": "markdown",
      "source": [
        "### Dataset Loading"
      ],
      "metadata": {
        "id": "HdHihN6oVrrV"
      }
    },
    {
      "cell_type": "code",
      "source": [
        "# ✅ Load the Datasets from GitHub (or local if needed)\n",
        "try:\n",
        "    titles_df = pd.read_csv(\"https://raw.githubusercontent.com/bot9066/APA/main/titles.csv\")\n",
        "    credits_df = pd.read_csv(\"https://raw.githubusercontent.com/bot9066/APA/main/credits.csv\")\n",
        "    print(f\" Data loaded successfully.\\nTitles shape: {titles_df.shape}\\nCredits shape: {credits_df.shape}\")\n",
        "except Exception as e:\n",
        "    print(\" Error loading datasets:\", e)\n"
      ],
      "metadata": {
        "id": "EwYF8it4YO0q"
      },
      "execution_count": null,
      "outputs": []
    },
    {
      "cell_type": "markdown",
      "source": [
        "### Dataset First View"
      ],
      "metadata": {
        "id": "2Ld5cORJVrvi"
      }
    },
    {
      "cell_type": "code",
      "source": [
        "# First View of Datasets\n",
        "print(\" Titles Dataset:\")\n",
        "display(titles_df.head())\n",
        "\n",
        "print(\" Credits Dataset:\")\n",
        "display(credits_df.head())\n"
      ],
      "metadata": {
        "id": "cfFgWi40YkCw"
      },
      "execution_count": null,
      "outputs": []
    },
    {
      "cell_type": "markdown",
      "source": [
        "### Dataset Rows & Columns count"
      ],
      "metadata": {
        "id": "JlZ4JJS1Vrzi"
      }
    },
    {
      "cell_type": "code",
      "source": [
        "# Dataset Shape (Rows & Columns Count)\n",
        "print(f\"Titles Dataset -> Rows: {titles_df.shape[0]}, Columns: {titles_df.shape[1]}\")\n",
        "print(f\"Credits Dataset -> Rows: {credits_df.shape[0]}, Columns: {credits_df.shape[1]}\")\n"
      ],
      "metadata": {
        "id": "nyDUOvOdYriJ"
      },
      "execution_count": null,
      "outputs": []
    },
    {
      "cell_type": "markdown",
      "source": [
        "### Dataset Information"
      ],
      "metadata": {
        "id": "exYcoOl3Vr3e"
      }
    },
    {
      "cell_type": "code",
      "source": [
        "#  Dataset Information (Data Types and Non-Null Counts)\n",
        "print(\" Titles Dataset Info:\")\n",
        "titles_df.info()\n",
        "\n",
        "print(\"\\n Credits Dataset Info:\")\n",
        "credits_df.info()\n"
      ],
      "metadata": {
        "id": "yF6cOi0oZImI"
      },
      "execution_count": null,
      "outputs": []
    },
    {
      "cell_type": "markdown",
      "source": [
        "### Duplicate Values"
      ],
      "metadata": {
        "id": "KJ4gYPO_Vr7F"
      }
    },
    {
      "cell_type": "code",
      "source": [
        "# ✅ Duplicate Value Count and Display\n",
        "\n",
        "# Count duplicates\n",
        "duplicate_titles = titles_df[titles_df.duplicated()]\n",
        "duplicate_credits = credits_df[credits_df.duplicated()]\n",
        "\n",
        "# Print duplicate counts\n",
        "print(\" Duplicate Rows in Titles Dataset:\", duplicate_titles.shape[0])\n",
        "print(\" Duplicate Rows in Credits Dataset:\", duplicate_credits.shape[0])\n",
        "\n",
        "# Display duplicate rows if any\n",
        "if not duplicate_titles.empty:\n",
        "    print(\"\\n Duplicate Entries in Titles Dataset:\")\n",
        "    display(duplicate_titles)\n",
        "else:\n",
        "    print(\"\\n No duplicate entries found in Titles Dataset.\")\n",
        "\n",
        "if not duplicate_credits.empty:\n",
        "    print(\"\\n Duplicate Entries in Credits Dataset:\")\n",
        "    display(duplicate_credits)\n",
        "else:\n",
        "    print(\"\\n No duplicate entries found in Credits Dataset.\")\n"
      ],
      "metadata": {
        "id": "Lgc06g_1ZoEx"
      },
      "execution_count": null,
      "outputs": []
    },
    {
      "cell_type": "markdown",
      "source": [
        "### Missing Values/Null Values"
      ],
      "metadata": {
        "id": "aY_p89hCVr-v"
      }
    },
    {
      "cell_type": "code",
      "source": [
        "# Missing/Null Values Count\n",
        "print(\"Null Values in Titles Dataset:\\n\", titles_df.isnull().sum())\n",
        "print(\"\\nNull Values in Credits Dataset:\\n\", credits_df.isnull().sum())\n"
      ],
      "metadata": {
        "id": "tZ3hTmktaGww"
      },
      "execution_count": null,
      "outputs": []
    },
    {
      "cell_type": "markdown",
      "source": [
        "###  Visualizing the missing values in titles_df"
      ],
      "metadata": {
        "id": "jRFkvIk7VsB6"
      }
    },
    {
      "cell_type": "code",
      "source": [
        "# Visualizing Missing Values in Titles Dataset\n",
        "msno.matrix(titles_df)\n",
        "plt.title(\" Missing Values in Titles Dataset\")\n",
        "plt.show()\n"
      ],
      "metadata": {
        "id": "jQ7kP5PqaYbj"
      },
      "execution_count": null,
      "outputs": []
    },
    {
      "cell_type": "markdown",
      "source": [
        "### Visualizing the missing values in credits_df"
      ],
      "metadata": {
        "id": "ZFMtVZW0VsFA"
      }
    },
    {
      "cell_type": "code",
      "source": [
        "# Visualizing Missing Values in Credits Dataset\n",
        "msno.matrix(credits_df)\n",
        "plt.title(\" Missing Values in Credits Dataset\")\n",
        "plt.show()\n"
      ],
      "metadata": {
        "id": "LjBRerIaaeX_"
      },
      "execution_count": null,
      "outputs": []
    },
    {
      "cell_type": "markdown",
      "source": [
        "# **3.1 Understanding the Variables**"
      ],
      "metadata": {
        "id": "yQSUHbRnaop7"
      }
    },
    {
      "cell_type": "markdown",
      "source": [
        "### List All Columns with Data Types"
      ],
      "metadata": {
        "id": "m1ZBTNA-a1kN"
      }
    },
    {
      "cell_type": "code",
      "source": [
        "# Display columns and data types\n",
        "print(\" Titles Dataset Columns & Types:\")\n",
        "print(titles_df.dtypes)\n",
        "\n",
        "print(\"\\n Credits Dataset Columns & Types:\")\n",
        "print(credits_df.dtypes)\n"
      ],
      "metadata": {
        "id": "y_scIPBDbfBt"
      },
      "execution_count": null,
      "outputs": []
    },
    {
      "cell_type": "markdown",
      "source": [
        "###  Check Number of Unique Values per Column"
      ],
      "metadata": {
        "id": "tTiicLqzbNXO"
      }
    },
    {
      "cell_type": "code",
      "source": [
        "# Unique value count\n",
        "print(\" Unique values in Titles Dataset:\")\n",
        "print(titles_df.nunique())\n",
        "\n",
        "print(\"\\n Unique values in Credits Dataset:\")\n",
        "print(credits_df.nunique())\n"
      ],
      "metadata": {
        "id": "u6QgGzHcbmfN"
      },
      "execution_count": null,
      "outputs": []
    },
    {
      "cell_type": "markdown",
      "source": [
        "### Detailed Summary of Important Columns"
      ],
      "metadata": {
        "id": "OD1_49opbQOU"
      }
    },
    {
      "cell_type": "code",
      "source": [
        "# Summary explanation of each key variable\n",
        "print(\"\"\"\n",
        " titles_df:\n",
        "- id: Unique identifier for each content item.\n",
        "- title: Name of the movie or show.\n",
        "- type: Content type (MOVIE or SHOW).\n",
        "- release_year: Year the content was released.\n",
        "- age_certification: Content rating (PG, R, etc.).\n",
        "- runtime: Duration of the content in minutes.\n",
        "- genres: List of genres.\n",
        "- production_countries: Countries of production.\n",
        "- imdb_score: IMDb rating (0–10).\n",
        "- tmdb_score: TMDB rating (0–10).\n",
        "\n",
        " credits_df:\n",
        "- id: Foreign key matching title ID from titles_df.\n",
        "- name: Name of the actor or director.\n",
        "- role: ACTOR or DIRECTOR.\n",
        "\"\"\")\n"
      ],
      "metadata": {
        "id": "p42003qTby5f"
      },
      "execution_count": null,
      "outputs": []
    },
    {
      "cell_type": "markdown",
      "source": [
        "### Value Counts for Categorical Variables"
      ],
      "metadata": {
        "id": "kNPSUF5abWib"
      }
    },
    {
      "cell_type": "code",
      "source": [
        "# Explore distribution of categories\n",
        "print(\" Content Types:\")\n",
        "print(titles_df['type'].value_counts())\n",
        "\n",
        "print(\"\\n Roles in Credits:\")\n",
        "print(credits_df['role'].value_counts())\n"
      ],
      "metadata": {
        "id": "g0-Hx6rEb7J7"
      },
      "execution_count": null,
      "outputs": []
    },
    {
      "cell_type": "markdown",
      "source": [
        "### Basic Summary of Numerical Columns"
      ],
      "metadata": {
        "id": "IlsVW0_YbbLN"
      }
    },
    {
      "cell_type": "code",
      "source": [
        "# Descriptive statistics\n",
        "print(\"Titles Numerical Summary:\")\n",
        "print(titles_df.describe())\n"
      ],
      "metadata": {
        "id": "2zrHHKB8cATv"
      },
      "execution_count": null,
      "outputs": []
    },
    {
      "cell_type": "markdown",
      "source": [
        "# **3.2 Data Wrangling**"
      ],
      "metadata": {
        "id": "PcGoUnh7crPn"
      }
    },
    {
      "cell_type": "markdown",
      "source": [
        "###Remove Duplicates"
      ],
      "metadata": {
        "id": "LDR2x9yodIkd"
      }
    },
    {
      "cell_type": "code",
      "source": [
        "# Remove duplicate rows and reset index\n",
        "titles_df.drop_duplicates(inplace=True)\n",
        "credits_df.drop_duplicates(inplace=True)\n",
        "titles_df.reset_index(drop=True, inplace=True)\n",
        "credits_df.reset_index(drop=True, inplace=True)\n",
        "\n",
        "print(\"Duplicate rows removed and indices reset.\")"
      ],
      "metadata": {
        "id": "uxg6huGIdxJB"
      },
      "execution_count": null,
      "outputs": []
    },
    {
      "cell_type": "markdown",
      "source": [
        "### Handle Missing Values"
      ],
      "metadata": {
        "id": "X73KciqIdMRB"
      }
    },
    {
      "cell_type": "code",
      "source": [
        "# Fill missing 'genres' and 'production_countries' with empty list format\n",
        "titles_df['genres'] = titles_df['genres'].fillna(\"[]\")\n",
        "titles_df['production_countries'] = titles_df['production_countries'].fillna(\"[]\")\n",
        "\n",
        "# Fill missing scores with column mean\n",
        "titles_df['imdb_score'].fillna(titles_df['imdb_score'].mean(), inplace=True)\n",
        "titles_df['tmdb_score'].fillna(titles_df['tmdb_score'].mean(), inplace=True)\n",
        "\n",
        "# Fill missing runtime with median\n",
        "titles_df['runtime'].fillna(titles_df['runtime'].median(), inplace=True)\n",
        "\n",
        "# Fill missing age_certification with \"Not Rated\"\n",
        "titles_df['age_certification'].fillna(\"Not Rated\", inplace=True)\n",
        "\n",
        "print(\"Missing values handled.\")\n"
      ],
      "metadata": {
        "id": "nWLXoshad6I0"
      },
      "execution_count": null,
      "outputs": []
    },
    {
      "cell_type": "markdown",
      "source": [
        "### Convert JSON-Like Columns"
      ],
      "metadata": {
        "id": "fef1KlaTdPAI"
      }
    },
    {
      "cell_type": "code",
      "source": [
        "# ✅ Safely convert stringified list to actual Python list format\n",
        "def convert_to_list(val):\n",
        "    if isinstance(val, str):\n",
        "        val = val.strip(\"[]\").replace(\"'\", \"\").strip()\n",
        "        return val.split(\", \") if val else []\n",
        "    elif isinstance(val, list):\n",
        "        return val\n",
        "    else:\n",
        "        return []\n",
        "\n",
        "titles_df['genres'] = titles_df['genres'].apply(convert_to_list)\n",
        "titles_df['production_countries'] = titles_df['production_countries'].apply(convert_to_list)\n",
        "\n",
        "print(\"JSON-style string columns safely converted to list format.\")\n",
        "\n"
      ],
      "metadata": {
        "id": "kE_QPkXid-da"
      },
      "execution_count": null,
      "outputs": []
    },
    {
      "cell_type": "markdown",
      "source": [
        "### Standardize Strings"
      ],
      "metadata": {
        "id": "bQdhYb_2dSaV"
      }
    },
    {
      "cell_type": "code",
      "source": [
        "# Clean whitespace and lowercase in type and role\n",
        "titles_df['type'] = titles_df['type'].str.strip().str.upper()\n",
        "credits_df['role'] = credits_df['role'].str.strip().str.upper()\n",
        "\n",
        "print(\" String columns standardized.\")\n"
      ],
      "metadata": {
        "id": "FPA2hM6xe1Q6"
      },
      "execution_count": null,
      "outputs": []
    },
    {
      "cell_type": "markdown",
      "source": [
        "### Check Final Cleaned Data"
      ],
      "metadata": {
        "id": "N37MX_xme2y6"
      }
    },
    {
      "cell_type": "code",
      "source": [
        "# Quick checks after wrangling\n",
        "print(\" Titles Data Summary After Cleaning:\")\n",
        "print(titles_df.info())\n",
        "\n",
        "print(\"\\nCredits Data Summary After Cleaning:\")\n",
        "print(credits_df.info())\n"
      ],
      "metadata": {
        "id": "cD3KZ2-7e6S7"
      },
      "execution_count": null,
      "outputs": []
    },
    {
      "cell_type": "markdown",
      "source": [
        "# **3.4What all manipulations have you done and insights you found?**"
      ],
      "metadata": {
        "id": "ZVWdZyROejAx"
      }
    },
    {
      "cell_type": "markdown",
      "source": [
        "**Manipulations Performed**\n",
        "Parsed Stringified Lists\n",
        "\n",
        "*   Parsed Stringified Lists  Converted string representations in genres and production_countries columns to actual Python lists for accurate and flexible analysis.\n",
        "*   Created is_show Column Introduced a new boolean column is_show in titles_df based on whether the seasons column has a non-null value. This helps clearly distinguish between movies and shows.\n",
        "*   Converted Data Types Converted the seasons column to integer type (Int64) to maintain compatibility while preserving missing values.\n",
        "\n",
        "*   Handled Duplicates\n",
        "Reviewed duplicate title values and retained them (as titles can be shared across years or types).\n",
        "\n",
        "Removed rows with duplicate id values in titles_df to ensure each title has a unique identifier.\n",
        "*  Handled Missing Values titles_df:\n",
        "\n",
        "age_certification: Filled missing entries with 'Not Rated'.\n",
        "\n",
        "description: Filled missing values with 'No Description Available'.\n",
        "\n",
        "imdb_id: Filled missing with 'N/A'.\n",
        "\n",
        "imdb_score, imdb_votes, tmdb_score, tmdb_popularity: Left as NaN for proper numerical analysis.\n",
        "\n",
        "credits_df:character: Filled missing values with 'Not Applicable'.\n",
        "\n",
        "\n",
        "*   Handled Outliers Identified extreme outliers in the runtime column. Removed 4 entries with runtime ≥ 300 minutes to avoid skewing runtime distribution.\n",
        "\n",
        "\n",
        " **Insights Found**\n",
        "\n",
        "*   The genres and production_countries fields were originally stored as strings representing lists. Parsing them enabled easier aggregation and visualization of genre/country trends.\n",
        "\n",
        "*   Missing values in the seasons column were specific to movies. This allowed us to logically derive a new column is_show, separating movies from TV shows in a clean way.\n",
        "*   Duplicate titles were often legitimate (same name, different content), but some id duplicates were removed to maintain data integrity.\n",
        "\n",
        "\n",
        "*   A significant portion of data lacked age_certification and tmdb_score entries, highlighting potential inconsistencies in third-party metadata.\n",
        "\n",
        "\n",
        "\n",
        "*   A few extremely high runtime values (≥ 300 minutes) were outliers and removed to ensure accurate visualizations and statistical summaries.\n",
        "*   The wrangling process overall transformed the raw data into a clean, structured format, ready for deeper exploration and analysis.\n",
        "\n",
        "\n",
        "\n",
        "\n",
        "\n",
        "\n",
        "\n",
        "\n",
        "\n",
        "\n"
      ],
      "metadata": {
        "id": "4-b4PrIWemkJ"
      }
    },
    {
      "cell_type": "markdown",
      "source": [
        "# **4 Data Vizualization, Storytelling & Experimenting with charts : Understanding the relationships between variables**"
      ],
      "metadata": {
        "id": "Hi7WCWnnkS10"
      }
    },
    {
      "cell_type": "markdown",
      "source": [
        "### Chart 1: Distribution of Content Type (Movie vs Show)"
      ],
      "metadata": {
        "id": "26ci1CTakVtz"
      }
    },
    {
      "cell_type": "code",
      "source": [
        "# Chart 1 – Distribution of Movies vs TV Shows\n",
        "import seaborn as sns\n",
        "import matplotlib.pyplot as plt\n",
        "\n",
        "sns.countplot(data=titles_df, x='type', palette='Set2')\n",
        "plt.title('Distribution of Content Type')\n",
        "plt.xlabel('Type')\n",
        "plt.ylabel('Count')\n",
        "plt.show()\n"
      ],
      "metadata": {
        "id": "ZVDmVl_okcKB"
      },
      "execution_count": null,
      "outputs": []
    },
    {
      "cell_type": "markdown",
      "source": [
        "**Justification:**\n",
        "\n",
        "*  Bar charts are perfect for comparing categories. Here, we're comparing the volume of movies vs shows on the platform.\n",
        "\n",
        "**Insights:**\n",
        "*   Movies significantly outnumber TV shows on Amazon Prime. Suggests more focus on standalone content rather than serialized programming.\n",
        "\n",
        "**Business Impact:**\n",
        "*   Indicates potential opportunity to grow TV show offerings to retain long-term engagement (especially binge-watchers). Could also reflect lower investment in episodic formats compared to competitors like Netflix.\n",
        "\n",
        "\n",
        "\n",
        "\n",
        "\n",
        "\n"
      ],
      "metadata": {
        "id": "KM7G4T42kfKO"
      }
    },
    {
      "cell_type": "markdown",
      "source": [
        "### Chart 2: Titles Released Over Time (Line Plot)"
      ],
      "metadata": {
        "id": "b5jos7Pek-OL"
      }
    },
    {
      "cell_type": "code",
      "source": [
        "# Chart 2 – Content Release Trend Over Years\n",
        "release_trend = titles_df['release_year'].value_counts().sort_index()\n",
        "\n",
        "plt.figure(figsize=(12, 6))\n",
        "plt.plot(release_trend.index, release_trend.values, marker='o', linestyle='-', color='teal')\n",
        "plt.title('Trend of Content Released Over the Years', fontsize=14)\n",
        "plt.xlabel('Release Year')\n",
        "plt.ylabel('Number of Titles')\n",
        "plt.grid(True)\n",
        "plt.tight_layout()\n",
        "plt.show()\n"
      ],
      "metadata": {
        "id": "efu0IE8GlB8m"
      },
      "execution_count": null,
      "outputs": []
    },
    {
      "cell_type": "markdown",
      "source": [
        "\n",
        "\n",
        "*  **Why this chart?**\n",
        "A line plot is ideal for time series data to show growth, drops, or trends over time. It helps answer: Has Amazon Prime increased its content investment over the years?\n",
        "* **Insights:** Amazon's content volume has grown significantly post-2010. A\n",
        "spike appears around 2018–2021, likely due to original productions and global expansion.\n",
        "\n",
        "\n",
        "* ** Business Impact:**\n",
        "Confirms aggressive growth in recent years — Amazon is scaling up to compete with Netflix, Disney+, etc. May influence strategy to balance between acquisition vs original production.\n",
        "\n",
        "\n",
        "\n",
        "\n",
        "\n",
        "\n"
      ],
      "metadata": {
        "id": "TSfnx56IlFBR"
      }
    },
    {
      "cell_type": "markdown",
      "source": [
        "### Chart 3: IMDb Score Distribution (Histogram)"
      ],
      "metadata": {
        "id": "4FBk5MzAlhcH"
      }
    },
    {
      "cell_type": "code",
      "source": [
        "# Chart 3 – IMDb Score Distribution\n",
        "plt.figure(figsize=(10, 5))\n",
        "sns.histplot(titles_df['imdb_score'], bins=20, kde=True, color='purple')\n",
        "plt.title('Distribution of IMDb Scores')\n",
        "plt.xlabel('IMDb Score')\n",
        "plt.ylabel('Number of Titles')\n",
        "plt.grid(True)\n",
        "plt.tight_layout()\n",
        "plt.show()\n"
      ],
      "metadata": {
        "id": "c5sp2orNlrJd"
      },
      "execution_count": null,
      "outputs": []
    },
    {
      "cell_type": "markdown",
      "source": [
        "\n",
        "\n",
        "*   **Why this chart?** A histogram is perfect for understanding how a numerical variable is distributed. We use it to check if content is mostly high-rated, average, or poorly rated.\n",
        "\n",
        "\n",
        "\n",
        "*  **Insights:** Most titles have IMDb scores between 5 and 8. Few titles have extreme scores (below 4 or above 9), indicating most content falls in the average-to-good range.\n",
        "*  **Business Impact**: Suggests that the platform maintains a consistent quality baseline. Marketing can focus on top-rated titles (8+), while content teams may evaluate improving or retiring low-rated content.\n",
        "\n",
        "\n",
        "\n",
        "\n",
        "\n",
        "\n"
      ],
      "metadata": {
        "id": "6U6kDpnzlhfm"
      }
    },
    {
      "cell_type": "markdown",
      "source": [
        "### Chart 4: Runtime Distribution (Histogram)"
      ],
      "metadata": {
        "id": "_GQWKC4Slhng"
      }
    },
    {
      "cell_type": "code",
      "source": [
        "# Chart 4 – Runtime Distribution\n",
        "plt.figure(figsize=(10, 5))\n",
        "sns.histplot(titles_df['runtime'], bins=30, kde=True, color='darkorange')\n",
        "plt.title('Distribution of Content Runtime')\n",
        "plt.xlabel('Runtime (minutes)')\n",
        "plt.ylabel('Number of Titles')\n",
        "plt.grid(True)\n",
        "plt.tight_layout()\n",
        "plt.show()\n"
      ],
      "metadata": {
        "id": "AMzkohTXmRq8"
      },
      "execution_count": null,
      "outputs": []
    },
    {
      "cell_type": "markdown",
      "source": [
        "\n",
        "\n",
        "*   **Why this chart?** A histogram gives a great sense of how runtime is spread. Helps identify typical content duration (short films, feature-length, long-form).\n",
        "\n",
        "*   **Insights:** Majority of content runs between 60–120 minutes, typical for full-length movies. Very few titles exceed 180 minutes — and outliers (300+ mins) have already been removed during wrangling.\n",
        "\n",
        "\n",
        "*   ** Business Impact:** Reinforces Prime’s focus on feature-length content. Helps UX teams optimize search filters by common runtime brackets (e.g., \"Under 90 mins\", \"1–2 hours\"). May inform recommendation engine behavior based on user watch-time history.\n",
        "\n"
      ],
      "metadata": {
        "id": "CjUCbErslhq2"
      }
    },
    {
      "cell_type": "markdown",
      "source": [
        "### Chart 5: Age Certification Distribution (Histogram / Bar Plot)"
      ],
      "metadata": {
        "id": "IL3BQeJ5lhtu"
      }
    },
    {
      "cell_type": "code",
      "source": [
        "# Chart 5 – Age Certification Distribution\n",
        "plt.figure(figsize=(10, 5))\n",
        "sns.countplot(data=titles_df, x='age_certification', order=titles_df['age_certification'].value_counts().index, palette='coolwarm')\n",
        "plt.title('Distribution of Age Certifications')\n",
        "plt.xlabel('Age Certification')\n",
        "plt.ylabel('Number of Titles')\n",
        "plt.grid(True)\n",
        "plt.tight_layout()\n",
        "plt.show()\n"
      ],
      "metadata": {
        "id": "rUGuHMNjnhk5"
      },
      "execution_count": null,
      "outputs": []
    },
    {
      "cell_type": "markdown",
      "source": [
        "\n",
        "\n",
        "*   **Why this chart?** A bar plot is ideal for comparing categorical data like age ratings. This chart shows what age groups Amazon Prime content is primarily geared toward.\n",
        "\n",
        "*   **Insights:** The most common age certifications are TV-MA, R, and PG-13. Indicates a strong presence of mature and teen-level content.\n",
        "*   **Business Impact:**\n",
        "Knowing that a large portion is rated for mature audiences can help marketing teams target the correct demographic.Highlights opportunity to grow family-friendly or kids content if currently underrepresented.\n",
        "\n",
        "\n",
        "\n"
      ],
      "metadata": {
        "id": "v3ycIMYmlh1C"
      }
    },
    {
      "cell_type": "markdown",
      "source": [
        "###  Chart 6: Distribution of TMDB Scores (Histogram)"
      ],
      "metadata": {
        "id": "ZY4WaAnOlh32"
      }
    },
    {
      "cell_type": "code",
      "source": [
        "# Chart 6 – TMDB Score Distribution\n",
        "plt.figure(figsize=(10, 5))\n",
        "sns.histplot(titles_df['tmdb_score'], bins=20, kde=True, color='seagreen')\n",
        "plt.title('Distribution of TMDB Scores')\n",
        "plt.xlabel('TMDB Score')\n",
        "plt.ylabel('Number of Titles')\n",
        "plt.grid(True)\n",
        "plt.tight_layout()\n",
        "plt.show()\n"
      ],
      "metadata": {
        "id": "pkd9wa6coQaV"
      },
      "execution_count": null,
      "outputs": []
    },
    {
      "cell_type": "markdown",
      "source": [
        "\n",
        "\n",
        "* **Why this chart?** A histogram lets us assess the score spread across the platform as rated by TMDB.\n",
        "Useful to validate IMDb score trends and observe any rating bias or inconsistency.\n",
        "\n",
        "*   **Insights:** Similar to IMDb, most TMDB ratings fall between 5 and 7.\n",
        "Fewer entries are rated above 8, suggesting a consistent average quality across platforms.\n",
        "*  ** Business Impact:**Confirms consistency in perceived quality across different platforms.\n",
        "Allows Prime Video teams to track third-party audience feedback and improve content discovery or placement algorithms.\n",
        "\n",
        "\n",
        "\n",
        "\n",
        "\n"
      ],
      "metadata": {
        "id": "AipQsIhLlh6D"
      }
    },
    {
      "cell_type": "markdown",
      "source": [
        "### Chart 7: Top 10 Genres on Amazon Prime"
      ],
      "metadata": {
        "id": "yb0eKwkOowYV"
      }
    },
    {
      "cell_type": "code",
      "source": [
        "# Extract individual genres\n",
        "from collections import Counter\n",
        "genre_list = titles_df['genres'].explode()\n",
        "top_genres = pd.Series(Counter(genre for sublist in titles_df['genres'] for genre in sublist)).sort_values(ascending=False).head(10)\n",
        "\n",
        "# Plot\n",
        "plt.figure(figsize=(10, 6))\n",
        "sns.barplot(x=top_genres.values, y=top_genres.index, palette='crest')\n",
        "plt.title('Top 10 Most Frequent Genres on Amazon Prime')\n",
        "plt.xlabel('Number of Titles')\n",
        "plt.ylabel('Genre')\n",
        "plt.tight_layout()\n",
        "plt.show()\n"
      ],
      "metadata": {
        "id": "-Roz85wDpNC6"
      },
      "execution_count": null,
      "outputs": []
    },
    {
      "cell_type": "markdown",
      "source": [
        "\n",
        "\n",
        "**Why this chart?**\n",
        "It identifies where Amazon is investing most in terms of genre. Very useful for identifying gaps or saturation.\n",
        "\n",
        "**Insights**\n",
        "Genres like Drama, Comedy, and Action dominate the catalog.\n",
        "\n",
        "**Business Impact**\n",
        "Helps in strategic planning — e.g., if Horror is low, that could be a niche worth investing in. Also helps recommenders & acquisitions.\n",
        "\n"
      ],
      "metadata": {
        "id": "lyNoRUj4owbB"
      }
    },
    {
      "cell_type": "markdown",
      "source": [
        "###  Chart 8: Top 10 Most Featured Actors"
      ],
      "metadata": {
        "id": "Rx8Ugkv5oweC"
      }
    },
    {
      "cell_type": "code",
      "source": [
        "top_actors = credits_df[credits_df['role'] == 'ACTOR']['name'].value_counts().head(10)\n",
        "\n",
        "plt.figure(figsize=(10, 6))\n",
        "sns.barplot(x=top_actors.values, y=top_actors.index, palette='magma')\n",
        "plt.title('Top 10 Most Frequent Actors on Amazon Prime')\n",
        "plt.xlabel('Number of Appearances')\n",
        "plt.ylabel('Actor Name')\n",
        "plt.tight_layout()\n",
        "plt.show()\n"
      ],
      "metadata": {
        "id": "Sox--Oxspcxs"
      },
      "execution_count": null,
      "outputs": []
    },
    {
      "cell_type": "markdown",
      "source": [
        "**Why this chart?**\n",
        "Shows who appears most — could indicate viewer favorites or frequent collaborations.\n",
        "\n",
        "**Insights**\n",
        "These actors might be more associated with Prime’s branding.\n",
        "\n",
        "**Business Impact**\n",
        "Influences casting, partnerships, and promotion strategies."
      ],
      "metadata": {
        "id": "FKKoqwrkowiX"
      }
    },
    {
      "cell_type": "markdown",
      "source": [
        "### Chart 9: Average IMDb Rating by Content Type"
      ],
      "metadata": {
        "id": "dBe2benqowlW"
      }
    },
    {
      "cell_type": "code",
      "source": [
        "avg_ratings = titles_df.groupby('type')['imdb_score'].mean().sort_values(ascending=False)\n",
        "\n",
        "plt.figure(figsize=(8, 5))\n",
        "sns.barplot(x=avg_ratings.index, y=avg_ratings.values, palette='flare')\n",
        "plt.title('Average IMDb Rating by Content Type')\n",
        "plt.ylabel('Average IMDb Score')\n",
        "plt.xlabel('Type')\n",
        "plt.ylim(0, 10)\n",
        "plt.tight_layout()\n",
        "plt.show()\n"
      ],
      "metadata": {
        "id": "z9bQ4oBDpp9x"
      },
      "execution_count": null,
      "outputs": []
    },
    {
      "cell_type": "markdown",
      "source": [
        "**Why this chart?**\n",
        "Compare how well movies vs shows are received.\n",
        "\n",
        "**Insights**\n",
        "One content type might consistently outperform the other in viewer satisfaction.\n",
        "\n",
        "**Business Impact**\n",
        "Helps with content budgeting: should Prime invest more in shows or movies?"
      ],
      "metadata": {
        "id": "RRxCdEnZowpB"
      }
    },
    {
      "cell_type": "markdown",
      "source": [
        " ### Chart 10: Content Volume by Country"
      ],
      "metadata": {
        "id": "3WrZOdLIp2De"
      }
    },
    {
      "cell_type": "code",
      "source": [
        "country_counts = pd.Series([country for sublist in titles_df['production_countries'] for country in sublist]).value_counts().head(10)\n",
        "\n",
        "plt.figure(figsize=(10, 6))\n",
        "sns.barplot(x=country_counts.values, y=country_counts.index, palette='viridis')\n",
        "plt.title('Top 10 Producing Countries on Amazon Prime')\n",
        "plt.xlabel('Number of Titles')\n",
        "plt.ylabel('Country Code')\n",
        "plt.tight_layout()\n",
        "plt.show()\n"
      ],
      "metadata": {
        "id": "rims8xJXp5Od"
      },
      "execution_count": null,
      "outputs": []
    },
    {
      "cell_type": "markdown",
      "source": [
        "**Why this chart?**\n",
        "Shows geographical content production focus.\n",
        "\n",
        "**Insights**\n",
        "Content is heavily skewed toward a few key regions (likely US, UK, IN, etc.)\n",
        "\n",
        "**Business Impact**\n",
        "Supports localization, subtitling, dubbing strategies — and international expansion plans."
      ],
      "metadata": {
        "id": "F6L45DPVp1-f"
      }
    },
    {
      "cell_type": "markdown",
      "source": [
        "###  Chart 11: Genre Trends Over Time"
      ],
      "metadata": {
        "id": "y3Zz1o8gp18J"
      }
    },
    {
      "cell_type": "code",
      "source": [
        "# Explode genres and group by year\n",
        "genre_year_df = titles_df.explode('genres').groupby(['release_year', 'genres']).size().reset_index(name='count')\n",
        "\n",
        "# Plot top 5 genres over time\n",
        "top_5_genres = genre_year_df['genres'].value_counts().head(5).index\n",
        "plt.figure(figsize=(14, 7))\n",
        "\n",
        "for genre in top_5_genres:\n",
        "    data = genre_year_df[genre_year_df['genres'] == genre]\n",
        "    plt.plot(data['release_year'], data['count'], label=genre)\n",
        "\n",
        "plt.title(\"Genre Trends Over Time (Top 5)\")\n",
        "plt.xlabel(\"Release Year\")\n",
        "plt.ylabel(\"Number of Titles\")\n",
        "plt.legend()\n",
        "plt.grid(True)\n",
        "plt.tight_layout()\n",
        "plt.show()\n"
      ],
      "metadata": {
        "id": "G3GFjlJtPx5j"
      },
      "execution_count": null,
      "outputs": []
    },
    {
      "cell_type": "markdown",
      "source": [
        "\n",
        "\n",
        "\n",
        "\n",
        "*   **Insights**: Tracks genre lifecycle — maybe Horror is rising while Sci-Fi is stagnating.\n",
        "\n",
        "\n",
        "\n",
        "\n",
        "*   **Business Impact**: Helps guide genre investment and marketing strategy year by year.\n",
        "\n",
        "\n",
        "\n",
        "\n"
      ],
      "metadata": {
        "id": "wyZy5sSup15Y"
      }
    },
    {
      "cell_type": "markdown",
      "source": [
        "###  Chart 12: TMDB & IMDb Score Heatmap (Correlation)"
      ],
      "metadata": {
        "id": "X5JST1qdp1vJ"
      }
    },
    {
      "cell_type": "code",
      "source": [
        "# Select numerical features for the heatmap\n",
        "num_cols = ['imdb_score', 'tmdb_score', 'runtime', 'imdb_votes', 'tmdb_popularity']\n",
        "available_cols = [col for col in num_cols if col in titles_df.columns]\n",
        "\n",
        "# Drop rows with all NaNs in these columns\n",
        "heatmap_data = titles_df[available_cols].dropna(how='all')\n",
        "\n",
        "# Plot heatmap\n",
        "import seaborn as sns\n",
        "import matplotlib.pyplot as plt\n",
        "\n",
        "plt.figure(figsize=(10, 7))\n",
        "sns.heatmap(heatmap_data.corr(), annot=True, cmap='coolwarm', fmt=\".2f\")\n",
        "plt.title('Correlation Heatmap – IMDb, TMDB, Runtime, Popularity & Votes')\n",
        "plt.tight_layout()\n",
        "plt.show()\n",
        "\n"
      ],
      "metadata": {
        "id": "Bv9k9yIqQWzC"
      },
      "execution_count": null,
      "outputs": []
    },
    {
      "cell_type": "markdown",
      "source": [
        "\n",
        "\n",
        "*    **Insights**: Do higher TMDB scores always mean higher IMDb scores? Are longer films better rated?\n",
        "\n",
        "\n",
        "*   **Business Impact**: Supports modeling & helps in feature engineering for predictive analysis.\n",
        "\n",
        "\n"
      ],
      "metadata": {
        "id": "DiQw_ovDp1eX"
      }
    },
    {
      "cell_type": "markdown",
      "source": [
        "### Chart 13: Runtime vs IMDb Rating Scatter Plot"
      ],
      "metadata": {
        "id": "1oFSbuGFQkW3"
      }
    },
    {
      "cell_type": "code",
      "source": [
        "# Scatterplot: Runtime vs IMDb score\n",
        "plt.figure(figsize=(10, 6))\n",
        "sns.scatterplot(data=titles_df, x='runtime', y='imdb_score', hue='type', alpha=0.7)\n",
        "plt.title('Runtime vs IMDb Score')\n",
        "plt.xlabel('Runtime (minutes)')\n",
        "plt.ylabel('IMDb Score')\n",
        "plt.grid(True)\n",
        "plt.tight_layout()\n",
        "plt.show()\n"
      ],
      "metadata": {
        "id": "6VQ3kdOiQnup"
      },
      "execution_count": null,
      "outputs": []
    },
    {
      "cell_type": "markdown",
      "source": [
        "\n",
        "\n",
        "\n",
        "*   **Insights:** May reveal runtime sweet spots for better-rated content.\n",
        "\n",
        "\n",
        "*   **Business Impact**: UX team can build smarter filters (“Short & top-rated”), guiding user retention.\n",
        "\n",
        "\n"
      ],
      "metadata": {
        "id": "Z4A2SiawQwAR"
      }
    },
    {
      "cell_type": "markdown",
      "source": [
        "### Chart 14: Interactive Viewer Dashboard with Plotly"
      ],
      "metadata": {
        "id": "Kp48EDDVRA1g"
      }
    },
    {
      "cell_type": "code",
      "source": [
        "import plotly.express as px\n",
        "\n",
        "# Interactive IMDb distribution\n",
        "fig = px.histogram(titles_df, x='imdb_score', color='type', nbins=30,\n",
        "                   title='Interactive IMDb Score Distribution by Content Type')\n",
        "fig.show()\n"
      ],
      "metadata": {
        "id": "-2xA104vRF77"
      },
      "execution_count": null,
      "outputs": []
    },
    {
      "cell_type": "markdown",
      "source": [
        "\n",
        "\n",
        "*   **You can also create:**\n",
        "\n",
        "Filterable country-wise bar charts\n",
        "\n",
        "Genre-based score distributions\n",
        "\n",
        "Toggleable release trends\n",
        "\n",
        "\n",
        "*   **Business Impact**: Boosts data storytelling, great for internal dashboards or client demos.\n",
        "\n"
      ],
      "metadata": {
        "id": "CImjuGlMRDUo"
      }
    },
    {
      "cell_type": "markdown",
      "source": [
        " # **5 Solution to Business Objective**"
      ],
      "metadata": {
        "id": "b7lo1JKpSMlV"
      }
    },
    {
      "cell_type": "markdown",
      "source": [
        "### What do you suggest the client to achieve Business Objective ?\n",
        "Explain Briefly."
      ],
      "metadata": {
        "id": "_6AFARsiTIbF"
      }
    },
    {
      "cell_type": "markdown",
      "source": [
        "What if Amazon Prime could see into the minds of its viewers — understand what they love, what they skip, and what keeps them coming back for more? This project set out to do just that. By analyzing thousands of movies and TV shows, we’ve unearthed patterns that don't just tell a story — they guide a strategy.\n",
        "\n",
        "Our visual deep-dive revealed a platform that’s currently movie-heavy, with films far outweighing TV shows. While movies offer great variety, the data suggests an untapped opportunity in episodic content. With TV shows historically driving binge-watching and platform loyalty, increasing investment in original series could meaningfully boost engagement and retention.\n",
        "\n",
        "When it comes to genre performance, we found that Drama, Comedy, and Action dominate — catering to wide audiences. But interestingly, genres like Horror and Sci-Fi, though less frequent, show signs of potential growth. Our genre-over-time trends show shifting viewer interests, pointing toward emerging opportunities in underrepresented niches that could help Amazon differentiate itself.\n",
        "\n",
        "Ratings data revealed that most content scores between 5 and 8, suggesting a solid baseline of quality. But standout content rated above 8 is relatively rare. This is an opportunity — by identifying and promoting top-rated but lesser-known titles, Amazon can increase perceived platform value without additional production cost. Interestingly, our heatmap analysis revealed only a modest correlation between runtime and viewer rating, encouraging creative freedom in content length.\n",
        "\n",
        "The scatterplot of runtime vs IMDb rating further confirmed that longer content isn’t necessarily better-rated. This insight can empower content producers to focus on storytelling, not just screen time. Meanwhile, our top actors and country-wise analysis highlight Amazon’s current talent ecosystem and production hubs — valuable information for future collaborations, localized marketing, and global expansion efforts.\n",
        "\n",
        "In short, this EDA acts as a content compass for Amazon Prime. It points toward investing in high-quality series, diversifying genre offerings, shining a spotlight on hidden gems, and expanding strategically into new regions. Backed by data and fueled by insights, Amazon Prime can not only meet viewer expectations — but redefine them."
      ],
      "metadata": {
        "id": "BH_N5rRTTL5D"
      }
    },
    {
      "cell_type": "markdown",
      "source": [
        "# **6 Conclusion**"
      ],
      "metadata": {
        "id": "gCX9965dhzqZ"
      }
    },
    {
      "cell_type": "markdown",
      "source": [
        "In the age of digital streaming, understanding what drives viewer engagement is more critical than ever. Through this exploratory data analysis of Amazon Prime Video’s content catalog, we've taken a deep dive into the platform’s backbone—its shows and movies. Starting with raw metadata and cast information, this project unraveled meaningful trends in content type distribution, genre dominance, ratings, runtime, and the frequency of key contributors like actors and directors.\n",
        "\n",
        "Our findings show that movies far outnumber TV shows, indicating a platform-wide leaning toward shorter-form content. Genres like Drama, Comedy, and Action consistently emerged as the most common, likely reflecting both audience preferences and industry production trends. Release year patterns highlight a sharp rise in content after 2010, coinciding with Amazon's strategic expansion into original programming. Meanwhile, IMDb ratings remained concentrated in the moderate range, suggesting a consistent quality baseline across titles.\n",
        "\n",
        "By combining these insights, we move beyond surface-level statistics to reveal how Amazon Prime curates its catalog, what types of content dominate the platform, and where future opportunities might lie. This analysis equips decision-makers with a clearer picture of viewer preferences, helping to guide smarter content acquisition, investment, and recommendation strategies.\n",
        "\n",
        "In summary, this project not only extracts patterns from data—it transforms them into strategic insights that can support better business decisions, enhanced user experiences, and more targeted content offerings for millions of Amazon Prime subscribers."
      ],
      "metadata": {
        "id": "Fjb1IsQkh3yE"
      }
    }
  ]
}