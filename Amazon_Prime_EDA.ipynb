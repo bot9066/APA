{
  "nbformat": 4,
  "nbformat_minor": 0,
  "metadata": {
    "colab": {
      "private_outputs": true,
      "provenance": [],
      "collapsed_sections": [
        "vncDsAP0Gaoa",
        "FJNUwmbgGyua",
        "w6K7xa23Elo4",
        "yQaldy8SH6Dl",
        "PH-0ReGfmX4f",
        "mDgbUHAGgjLW",
        "O_i_v8NEhb9l",
        "HhfV-JJviCcP",
        "Y3lxredqlCYt",
        "3RnN4peoiCZX",
        "x71ZqKXriCWQ",
        "7hBIi_osiCS2",
        "JlHwYmJAmNHm",
        "35m5QtbWiB9F",
        "PoPl-ycgm1ru",
        "H0kj-8xxnORC",
        "nA9Y7ga8ng1Z",
        "PBTbrJXOngz2",
        "u3PMJOP6ngxN",
        "dauF4eBmngu3",
        "bKJF3rekwFvQ",
        "MSa1f5Uengrz",
        "GF8Ens_Soomf",
        "0wOQAZs5pc--",
        "K5QZ13OEpz2H",
        "lQ7QKXXCp7Bj",
        "448CDAPjqfQr",
        "KSlN3yHqYklG",
        "t6dVpIINYklI",
        "ijmpgYnKYklI",
        "-JiQyfWJYklI",
        "EM7whBJCYoAo",
        "fge-S5ZAYoAp",
        "85gYPyotYoAp",
        "RoGjAbkUYoAp",
        "4Of9eVA-YrdM",
        "iky9q4vBYrdO",
        "F6T5p64dYrdO",
        "y-Ehk30pYrdP",
        "bamQiAODYuh1",
        "QHF8YVU7Yuh3",
        "GwzvFGzlYuh3",
        "qYpmQ266Yuh3",
        "OH-pJp9IphqM",
        "bbFf2-_FphqN",
        "_ouA3fa0phqN",
        "Seke61FWphqN",
        "PIIx-8_IphqN",
        "t27r6nlMphqO",
        "r2jJGEOYphqO",
        "b0JNsNcRphqO",
        "BZR9WyysphqO",
        "jj7wYXLtphqO",
        "eZrbJ2SmphqO",
        "rFu4xreNphqO",
        "YJ55k-q6phqO",
        "gCFgpxoyphqP",
        "OVtJsKN_phqQ",
        "lssrdh5qphqQ",
        "U2RJ9gkRphqQ",
        "1M8mcRywphqQ",
        "tgIPom80phqQ",
        "JMzcOPDDphqR",
        "x-EpHcCOp1ci",
        "X_VqEhTip1ck",
        "8zGJKyg5p1ck",
        "PVzmfK_Ep1ck",
        "n3dbpmDWp1ck",
        "ylSl6qgtp1ck",
        "ZWILFDl5p1ck",
        "M7G43BXep1ck",
        "Ag9LCva-p1cl",
        "E6MkPsBcp1cl",
        "2cELzS2fp1cl",
        "3MPXvC8up1cl",
        "NC_X3p0fY2L0",
        "UV0SzAkaZNRQ",
        "YPEH6qLeZNRQ",
        "q29F0dvdveiT",
        "EXh0U9oCveiU",
        "22aHeOlLveiV",
        "JcMwzZxoAimU",
        "8G2x9gOozGDZ",
        "gCX9965dhzqZ",
        "gIfDvo9L0UH2"
      ]
    },
    "kernelspec": {
      "name": "python3",
      "display_name": "Python 3"
    },
    "language_info": {
      "name": "python"
    }
  },
  "cells": [
    {
      "cell_type": "code",
      "source": [],
      "metadata": {
        "id": "I1apcow5dxii"
      },
      "execution_count": null,
      "outputs": []
    },
    {
      "cell_type": "markdown",
      "source": [
        "# **Project Name**    -Amazone Prime data analysis\n",
        "\n"
      ],
      "metadata": {
        "id": "vncDsAP0Gaoa"
      }
    },
    {
      "cell_type": "markdown",
      "source": [
        "##### **Project Type**    - EDA\n",
        "##### **Contribution**    - Individual\n"
      ],
      "metadata": {
        "id": "beRrZCGUAJYm"
      }
    },
    {
      "cell_type": "markdown",
      "source": [
        "# **Project Summary -**"
      ],
      "metadata": {
        "id": "FJNUwmbgGyua"
      }
    },
    {
      "cell_type": "markdown",
      "source": [
        "This project focuses on performing an in-depth Exploratory Data Analysis (EDA) on the vast catalog of TV shows and movies available on Amazon Prime Video in the United States.\n",
        "Leveraging two structured datasets—\n",
        "titles.csv, which includes metadata such as title type (TV show or movie), release year, runtime, genres, and IMDb ratings, and\n",
        "credits.csv, which details cast and crew information—the goal of this analysis is to uncover meaningful patterns, trends, and insights that highlight how content is distributed and consumed on the platform.\n",
        "The analysis began with thorough data cleaning, including removing duplicates, handling missing values, and properly parsing list-like fields such as genres and production countries. From there, we explored the overall distribution of content types and discovered that movies significantly outnumber TV shows on the platform. Genre analysis revealed Drama, Comedy, and Action as the most frequently occurring genres across both formats, suggesting viewer preference and platform focus. We also analyzed release trends over time and observed a steady rise in content production and acquisition, particularly after 2010, reflecting Amazon’s growing investment in original programming and global licensing. When examining IMDb ratings, we found that most content scores fall within the 5 to 8 range, with relatively few extremely high- or low-rated entries. Runtime analysis showed that movies typically cluster around 90 to 120 minutes, while TV shows vary more significantly, often depending on the number of seasons. The cast and crew dataset was used to identify the most frequently appearing actors and directors, giving insight into recurring talent and perhaps content that resonates more with audiences. By combining all these findings, this project offers a data-driven understanding of the type of content Amazon Prime prioritizes, how it has evolved over time, and which attributes might influence popularity or viewer engagement. These insights can be valuable not only for viewers or data enthusiasts, but also for content strategists and business teams at Amazon seeking to align their offerings with audience demand and market trends. Ultimately, this analysis demonstrates the power of exploratory data work in drawing actionable insights from a streaming service's content library."
      ],
      "metadata": {
        "id": "F6v_1wHtG2nS"
      }
    },
    {
      "cell_type": "markdown",
      "source": [
        "# **GitHub Link -**"
      ],
      "metadata": {
        "id": "w6K7xa23Elo4"
      }
    },
    {
      "cell_type": "markdown",
      "source": [
        "https://github.com/bot9066/APA/tree/main"
      ],
      "metadata": {
        "id": "h1o69JH3Eqqn"
      }
    },
    {
      "cell_type": "markdown",
      "source": [
        "# **Problem Statement**\n"
      ],
      "metadata": {
        "id": "yQaldy8SH6Dl"
      }
    },
    {
      "cell_type": "markdown",
      "source": [
        "Amazon Prime Video offers thousands of movies and TV shows across various genres, countries, and formats, but there's limited visibility into how this content is distributed and consumed.\n",
        "\n",
        "Without structured analysis, it’s challenging to understand what types of content dominate the platform (e.g., genres, ratings, content types).\n",
        "\n",
        "There’s a need to explore how the platform’s content offering has evolved over time — in terms of volume, diversity, and quality (as rated by viewers).\n",
        "\n",
        "Stakeholders like content strategists, data analysts, and marketers need insights to guide future content acquisition and production decisions.\n",
        "\n",
        "Key questions remain unanswered, such as:\n",
        "\n",
        "What is the balance between TV shows and movies?\n",
        "\n",
        "Which genres are most common and potentially overrepresented?\n",
        "\n",
        "Are there patterns in IMDb ratings or runtime that influence content performance?\n",
        "\n",
        "Which actors or directors are most frequently featured?\n",
        "\n",
        "How has content release frequency changed over the years?\n",
        "\n",
        "By answering these questions through data analysis, Amazon can better align its offerings with viewer preferences and market trends.\n",
        "\n"
      ],
      "metadata": {
        "id": "DpeJGUA3kjGy"
      }
    },
    {
      "cell_type": "markdown",
      "source": [
        "#### **Define Your Business Objective?**"
      ],
      "metadata": {
        "id": "PH-0ReGfmX4f"
      }
    },
    {
      "cell_type": "markdown",
      "source": [
        "To gain a comprehensive understanding of the type, quality, and volume of content available on Amazon Prime Video in order to support data-driven content strategy decisions.\n",
        "\n",
        "To identify the most prevalent and popular genres, content types (TV shows vs. movies), and production trends that define Prime Video’s catalog.\n",
        "\n",
        "To uncover audience preferences based on patterns in IMDb ratings, runtime distributions, and genre frequency.\n",
        "\n",
        "To analyze temporal trends in content releases and assess how Amazon’s content offering has evolved over time.\n",
        "\n",
        "To evaluate which actors and directors appear most frequently, offering insights into talent that may resonate more with Prime subscribers.\n",
        "\n",
        "To use visual storytelling and descriptive statistics to present insights that help decision-makers optimize future content acquisitions, investments, and recommendation systems.\n",
        "\n",
        "Ultimately, to transform raw content data into actionable insights that align Prime Video’s offerings with viewer demand, improve platform engagement, and support long-term strategic growth."
      ],
      "metadata": {
        "id": "PhDvGCAqmjP1"
      }
    },
    {
      "cell_type": "markdown",
      "source": [
        "# **Working on Data set** : -  "
      ],
      "metadata": {
        "id": "mDgbUHAGgjLW"
      }
    },
    {
      "cell_type": "markdown",
      "source": [
        "### Import Libraries"
      ],
      "metadata": {
        "id": "ZrxVaUj-hHfC"
      }
    },
    {
      "cell_type": "code",
      "source": [
        "# Import Required Libraries\n",
        "import pandas as pd\n",
        "import numpy as np\n",
        "import matplotlib.pyplot as plt\n",
        "import seaborn as sns\n",
        "import missingno as msno\n",
        "import warnings\n",
        "warnings.filterwarnings('ignore')\n",
        "\n",
        "# Set seaborn styling\n",
        "sns.set(style='whitegrid')\n",
        "print(\"✅ Libraries imported successfully.\")\n"
      ],
      "metadata": {
        "id": "P08oV0RCX5Zq"
      },
      "execution_count": null,
      "outputs": []
    },
    {
      "cell_type": "markdown",
      "source": [
        "### Dataset Loading"
      ],
      "metadata": {
        "id": "HdHihN6oVrrV"
      }
    },
    {
      "cell_type": "code",
      "source": [
        "# ✅ Load the Datasets from GitHub (or local if needed)\n",
        "try:\n",
        "    titles_df = pd.read_csv(\"https://raw.githubusercontent.com/bot9066/APA/main/titles.csv\")\n",
        "    credits_df = pd.read_csv(\"https://raw.githubusercontent.com/bot9066/APA/main/credits.csv\")\n",
        "    print(f\" Data loaded successfully.\\nTitles shape: {titles_df.shape}\\nCredits shape: {credits_df.shape}\")\n",
        "except Exception as e:\n",
        "    print(\" Error loading datasets:\", e)\n"
      ],
      "metadata": {
        "id": "EwYF8it4YO0q"
      },
      "execution_count": null,
      "outputs": []
    },
    {
      "cell_type": "markdown",
      "source": [
        "### Dataset First View"
      ],
      "metadata": {
        "id": "2Ld5cORJVrvi"
      }
    },
    {
      "cell_type": "code",
      "source": [
        "# First View of Datasets\n",
        "print(\" Titles Dataset:\")\n",
        "display(titles_df.head())\n",
        "\n",
        "print(\" Credits Dataset:\")\n",
        "display(credits_df.head())\n"
      ],
      "metadata": {
        "id": "cfFgWi40YkCw"
      },
      "execution_count": null,
      "outputs": []
    },
    {
      "cell_type": "markdown",
      "source": [
        "### Dataset Rows & Columns count"
      ],
      "metadata": {
        "id": "JlZ4JJS1Vrzi"
      }
    },
    {
      "cell_type": "code",
      "source": [
        "# Dataset Shape (Rows & Columns Count)\n",
        "print(f\"Titles Dataset -> Rows: {titles_df.shape[0]}, Columns: {titles_df.shape[1]}\")\n",
        "print(f\"Credits Dataset -> Rows: {credits_df.shape[0]}, Columns: {credits_df.shape[1]}\")\n"
      ],
      "metadata": {
        "id": "nyDUOvOdYriJ"
      },
      "execution_count": null,
      "outputs": []
    },
    {
      "cell_type": "markdown",
      "source": [
        "### Dataset Information"
      ],
      "metadata": {
        "id": "exYcoOl3Vr3e"
      }
    },
    {
      "cell_type": "code",
      "source": [
        "#  Dataset Information (Data Types and Non-Null Counts)\n",
        "print(\" Titles Dataset Info:\")\n",
        "titles_df.info()\n",
        "\n",
        "print(\"\\n Credits Dataset Info:\")\n",
        "credits_df.info()\n"
      ],
      "metadata": {
        "id": "yF6cOi0oZImI"
      },
      "execution_count": null,
      "outputs": []
    },
    {
      "cell_type": "markdown",
      "source": [
        "### Duplicate Values"
      ],
      "metadata": {
        "id": "KJ4gYPO_Vr7F"
      }
    },
    {
      "cell_type": "code",
      "source": [
        "# ✅ Duplicate Value Count and Display\n",
        "\n",
        "# Count duplicates\n",
        "duplicate_titles = titles_df[titles_df.duplicated()]\n",
        "duplicate_credits = credits_df[credits_df.duplicated()]\n",
        "\n",
        "# Print duplicate counts\n",
        "print(\" Duplicate Rows in Titles Dataset:\", duplicate_titles.shape[0])\n",
        "print(\" Duplicate Rows in Credits Dataset:\", duplicate_credits.shape[0])\n",
        "\n",
        "# Display duplicate rows if any\n",
        "if not duplicate_titles.empty:\n",
        "    print(\"\\n Duplicate Entries in Titles Dataset:\")\n",
        "    display(duplicate_titles)\n",
        "else:\n",
        "    print(\"\\n No duplicate entries found in Titles Dataset.\")\n",
        "\n",
        "if not duplicate_credits.empty:\n",
        "    print(\"\\n Duplicate Entries in Credits Dataset:\")\n",
        "    display(duplicate_credits)\n",
        "else:\n",
        "    print(\"\\n No duplicate entries found in Credits Dataset.\")\n"
      ],
      "metadata": {
        "id": "Lgc06g_1ZoEx"
      },
      "execution_count": null,
      "outputs": []
    },
    {
      "cell_type": "markdown",
      "source": [
        "### Missing Values/Null Values"
      ],
      "metadata": {
        "id": "aY_p89hCVr-v"
      }
    },
    {
      "cell_type": "code",
      "source": [
        "# Missing/Null Values Count\n",
        "print(\"Null Values in Titles Dataset:\\n\", titles_df.isnull().sum())\n",
        "print(\"\\nNull Values in Credits Dataset:\\n\", credits_df.isnull().sum())\n"
      ],
      "metadata": {
        "id": "tZ3hTmktaGww"
      },
      "execution_count": null,
      "outputs": []
    },
    {
      "cell_type": "markdown",
      "source": [
        "###  Visualizing the missing values in titles_df"
      ],
      "metadata": {
        "id": "jRFkvIk7VsB6"
      }
    },
    {
      "cell_type": "code",
      "source": [
        "# Visualizing Missing Values in Titles Dataset\n",
        "msno.matrix(titles_df)\n",
        "plt.title(\" Missing Values in Titles Dataset\")\n",
        "plt.show()\n"
      ],
      "metadata": {
        "id": "jQ7kP5PqaYbj"
      },
      "execution_count": null,
      "outputs": []
    },
    {
      "cell_type": "markdown",
      "source": [
        "### Visualizing the missing values in credits_df"
      ],
      "metadata": {
        "id": "ZFMtVZW0VsFA"
      }
    },
    {
      "cell_type": "code",
      "source": [
        "# Visualizing Missing Values in Credits Dataset\n",
        "msno.matrix(credits_df)\n",
        "plt.title(\" Missing Values in Credits Dataset\")\n",
        "plt.show()\n"
      ],
      "metadata": {
        "id": "LjBRerIaaeX_"
      },
      "execution_count": null,
      "outputs": []
    },
    {
      "cell_type": "markdown",
      "source": [
        "# **Understanding the Variables**"
      ],
      "metadata": {
        "id": "yQSUHbRnaop7"
      }
    },
    {
      "cell_type": "markdown",
      "source": [
        "### List All Columns with Data Types"
      ],
      "metadata": {
        "id": "m1ZBTNA-a1kN"
      }
    },
    {
      "cell_type": "code",
      "source": [
        "# Display columns and data types\n",
        "print(\" Titles Dataset Columns & Types:\")\n",
        "print(titles_df.dtypes)\n",
        "\n",
        "print(\"\\n Credits Dataset Columns & Types:\")\n",
        "print(credits_df.dtypes)\n"
      ],
      "metadata": {
        "id": "y_scIPBDbfBt"
      },
      "execution_count": null,
      "outputs": []
    },
    {
      "cell_type": "markdown",
      "source": [
        "###  Check Number of Unique Values per Column"
      ],
      "metadata": {
        "id": "tTiicLqzbNXO"
      }
    },
    {
      "cell_type": "code",
      "source": [
        "# Unique value count\n",
        "print(\" Unique values in Titles Dataset:\")\n",
        "print(titles_df.nunique())\n",
        "\n",
        "print(\"\\n Unique values in Credits Dataset:\")\n",
        "print(credits_df.nunique())\n"
      ],
      "metadata": {
        "id": "u6QgGzHcbmfN"
      },
      "execution_count": null,
      "outputs": []
    },
    {
      "cell_type": "markdown",
      "source": [
        "### Detailed Summary of Important Columns"
      ],
      "metadata": {
        "id": "OD1_49opbQOU"
      }
    },
    {
      "cell_type": "code",
      "source": [
        "# Summary explanation of each key variable\n",
        "print(\"\"\"\n",
        " titles_df:\n",
        "- id: Unique identifier for each content item.\n",
        "- title: Name of the movie or show.\n",
        "- type: Content type (MOVIE or SHOW).\n",
        "- release_year: Year the content was released.\n",
        "- age_certification: Content rating (PG, R, etc.).\n",
        "- runtime: Duration of the content in minutes.\n",
        "- genres: List of genres.\n",
        "- production_countries: Countries of production.\n",
        "- imdb_score: IMDb rating (0–10).\n",
        "- tmdb_score: TMDB rating (0–10).\n",
        "\n",
        " credits_df:\n",
        "- id: Foreign key matching title ID from titles_df.\n",
        "- name: Name of the actor or director.\n",
        "- role: ACTOR or DIRECTOR.\n",
        "\"\"\")\n"
      ],
      "metadata": {
        "id": "p42003qTby5f"
      },
      "execution_count": null,
      "outputs": []
    },
    {
      "cell_type": "markdown",
      "source": [
        "### Value Counts for Categorical Variables"
      ],
      "metadata": {
        "id": "kNPSUF5abWib"
      }
    },
    {
      "cell_type": "code",
      "source": [
        "# Explore distribution of categories\n",
        "print(\" Content Types:\")\n",
        "print(titles_df['type'].value_counts())\n",
        "\n",
        "print(\"\\n Roles in Credits:\")\n",
        "print(credits_df['role'].value_counts())\n"
      ],
      "metadata": {
        "id": "g0-Hx6rEb7J7"
      },
      "execution_count": null,
      "outputs": []
    },
    {
      "cell_type": "markdown",
      "source": [
        "### Basic Summary of Numerical Columns"
      ],
      "metadata": {
        "id": "IlsVW0_YbbLN"
      }
    },
    {
      "cell_type": "code",
      "source": [
        "# Descriptive statistics\n",
        "print(\"Titles Numerical Summary:\")\n",
        "print(titles_df.describe())\n"
      ],
      "metadata": {
        "id": "2zrHHKB8cATv"
      },
      "execution_count": null,
      "outputs": []
    },
    {
      "cell_type": "markdown",
      "source": [
        "# **Data Wrangling**"
      ],
      "metadata": {
        "id": "PcGoUnh7crPn"
      }
    },
    {
      "cell_type": "markdown",
      "source": [
        "###Remove Duplicates"
      ],
      "metadata": {
        "id": "LDR2x9yodIkd"
      }
    },
    {
      "cell_type": "code",
      "source": [
        "# Remove duplicate rows and reset index\n",
        "titles_df.drop_duplicates(inplace=True)\n",
        "credits_df.drop_duplicates(inplace=True)\n",
        "titles_df.reset_index(drop=True, inplace=True)\n",
        "credits_df.reset_index(drop=True, inplace=True)\n",
        "\n",
        "print(\"Duplicate rows removed and indices reset.\")"
      ],
      "metadata": {
        "id": "uxg6huGIdxJB"
      },
      "execution_count": null,
      "outputs": []
    },
    {
      "cell_type": "markdown",
      "source": [
        "### Handle Missing Values"
      ],
      "metadata": {
        "id": "X73KciqIdMRB"
      }
    },
    {
      "cell_type": "code",
      "source": [
        "# Fill missing 'genres' and 'production_countries' with empty list format\n",
        "titles_df['genres'] = titles_df['genres'].fillna(\"[]\")\n",
        "titles_df['production_countries'] = titles_df['production_countries'].fillna(\"[]\")\n",
        "\n",
        "# Fill missing scores with column mean\n",
        "titles_df['imdb_score'].fillna(titles_df['imdb_score'].mean(), inplace=True)\n",
        "titles_df['tmdb_score'].fillna(titles_df['tmdb_score'].mean(), inplace=True)\n",
        "\n",
        "# Fill missing runtime with median\n",
        "titles_df['runtime'].fillna(titles_df['runtime'].median(), inplace=True)\n",
        "\n",
        "# Fill missing age_certification with \"Not Rated\"\n",
        "titles_df['age_certification'].fillna(\"Not Rated\", inplace=True)\n",
        "\n",
        "print(\"Missing values handled.\")\n"
      ],
      "metadata": {
        "id": "nWLXoshad6I0"
      },
      "execution_count": null,
      "outputs": []
    },
    {
      "cell_type": "markdown",
      "source": [
        "### Convert JSON-Like Columns"
      ],
      "metadata": {
        "id": "fef1KlaTdPAI"
      }
    },
    {
      "cell_type": "code",
      "source": [
        "# ✅ Safely convert stringified list to actual Python list format\n",
        "def convert_to_list(val):\n",
        "    if isinstance(val, str):\n",
        "        val = val.strip(\"[]\").replace(\"'\", \"\").strip()\n",
        "        return val.split(\", \") if val else []\n",
        "    elif isinstance(val, list):\n",
        "        return val\n",
        "    else:\n",
        "        return []\n",
        "\n",
        "titles_df['genres'] = titles_df['genres'].apply(convert_to_list)\n",
        "titles_df['production_countries'] = titles_df['production_countries'].apply(convert_to_list)\n",
        "\n",
        "print(\"JSON-style string columns safely converted to list format.\")\n",
        "\n"
      ],
      "metadata": {
        "id": "kE_QPkXid-da"
      },
      "execution_count": null,
      "outputs": []
    },
    {
      "cell_type": "markdown",
      "source": [
        "### Standardize Strings"
      ],
      "metadata": {
        "id": "bQdhYb_2dSaV"
      }
    },
    {
      "cell_type": "code",
      "source": [
        "# Clean whitespace and lowercase in type and role\n",
        "titles_df['type'] = titles_df['type'].str.strip().str.upper()\n",
        "credits_df['role'] = credits_df['role'].str.strip().str.upper()\n",
        "\n",
        "print(\" String columns standardized.\")\n"
      ],
      "metadata": {
        "id": "FPA2hM6xe1Q6"
      },
      "execution_count": null,
      "outputs": []
    },
    {
      "cell_type": "markdown",
      "source": [
        "### Check Final Cleaned Data"
      ],
      "metadata": {
        "id": "N37MX_xme2y6"
      }
    },
    {
      "cell_type": "code",
      "source": [
        "# Quick checks after wrangling\n",
        "print(\" Titles Data Summary After Cleaning:\")\n",
        "print(titles_df.info())\n",
        "\n",
        "print(\"\\nCredits Data Summary After Cleaning:\")\n",
        "print(credits_df.info())\n"
      ],
      "metadata": {
        "id": "cD3KZ2-7e6S7"
      },
      "execution_count": null,
      "outputs": []
    },
    {
      "cell_type": "markdown",
      "source": [
        "# **What all manipulations have you done and insights you found?**"
      ],
      "metadata": {
        "id": "ZVWdZyROejAx"
      }
    },
    {
      "cell_type": "markdown",
      "source": [
        "**Manipulations Performed**\n",
        "Parsed Stringified Lists\n",
        "\n",
        "*   Parsed Stringified Lists  Converted string representations in genres and production_countries columns to actual Python lists for accurate and flexible analysis.\n",
        "*   Created is_show Column Introduced a new boolean column is_show in titles_df based on whether the seasons column has a non-null value. This helps clearly distinguish between movies and shows.\n",
        "*   Converted Data Types Converted the seasons column to integer type (Int64) to maintain compatibility while preserving missing values.\n",
        "\n",
        "*   Handled Duplicates\n",
        "Reviewed duplicate title values and retained them (as titles can be shared across years or types).\n",
        "\n",
        "Removed rows with duplicate id values in titles_df to ensure each title has a unique identifier.\n",
        "*  Handled Missing Values titles_df:\n",
        "\n",
        "age_certification: Filled missing entries with 'Not Rated'.\n",
        "\n",
        "description: Filled missing values with 'No Description Available'.\n",
        "\n",
        "imdb_id: Filled missing with 'N/A'.\n",
        "\n",
        "imdb_score, imdb_votes, tmdb_score, tmdb_popularity: Left as NaN for proper numerical analysis.\n",
        "\n",
        "credits_df:character: Filled missing values with 'Not Applicable'.\n",
        "\n",
        "\n",
        "*   Handled Outliers Identified extreme outliers in the runtime column. Removed 4 entries with runtime ≥ 300 minutes to avoid skewing runtime distribution.\n",
        "\n",
        "\n",
        " **Insights Found**\n",
        "\n",
        "*   The genres and production_countries fields were originally stored as strings representing lists. Parsing them enabled easier aggregation and visualization of genre/country trends.\n",
        "\n",
        "*   Missing values in the seasons column were specific to movies. This allowed us to logically derive a new column is_show, separating movies from TV shows in a clean way.\n",
        "*   Duplicate titles were often legitimate (same name, different content), but some id duplicates were removed to maintain data integrity.\n",
        "\n",
        "\n",
        "*   A significant portion of data lacked age_certification and tmdb_score entries, highlighting potential inconsistencies in third-party metadata.\n",
        "\n",
        "\n",
        "\n",
        "*   A few extremely high runtime values (≥ 300 minutes) were outliers and removed to ensure accurate visualizations and statistical summaries.\n",
        "*   The wrangling process overall transformed the raw data into a clean, structured format, ready for deeper exploration and analysis.\n",
        "\n",
        "\n",
        "\n",
        "\n",
        "\n",
        "\n",
        "\n",
        "\n",
        "\n",
        "\n"
      ],
      "metadata": {
        "id": "4-b4PrIWemkJ"
      }
    },
    {
      "cell_type": "markdown",
      "source": [
        "# **Conclusion**"
      ],
      "metadata": {
        "id": "gCX9965dhzqZ"
      }
    },
    {
      "cell_type": "markdown",
      "source": [
        "In the age of digital streaming, understanding what drives viewer engagement is more critical than ever. Through this exploratory data analysis of Amazon Prime Video’s content catalog, we've taken a deep dive into the platform’s backbone—its shows and movies. Starting with raw metadata and cast information, this project unraveled meaningful trends in content type distribution, genre dominance, ratings, runtime, and the frequency of key contributors like actors and directors.\n",
        "\n",
        "Our findings show that movies far outnumber TV shows, indicating a platform-wide leaning toward shorter-form content. Genres like Drama, Comedy, and Action consistently emerged as the most common, likely reflecting both audience preferences and industry production trends. Release year patterns highlight a sharp rise in content after 2010, coinciding with Amazon's strategic expansion into original programming. Meanwhile, IMDb ratings remained concentrated in the moderate range, suggesting a consistent quality baseline across titles.\n",
        "\n",
        "By combining these insights, we move beyond surface-level statistics to reveal how Amazon Prime curates its catalog, what types of content dominate the platform, and where future opportunities might lie. This analysis equips decision-makers with a clearer picture of viewer preferences, helping to guide smarter content acquisition, investment, and recommendation strategies.\n",
        "\n",
        "In summary, this project not only extracts patterns from data—it transforms them into strategic insights that can support better business decisions, enhanced user experiences, and more targeted content offerings for millions of Amazon Prime subscribers."
      ],
      "metadata": {
        "id": "Fjb1IsQkh3yE"
      }
    }
  ]
}
